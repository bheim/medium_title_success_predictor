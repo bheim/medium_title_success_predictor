{
 "cells": [
  {
   "cell_type": "markdown",
   "id": "ac29ea23",
   "metadata": {},
   "source": [
    "Below, I'll be using text8 for my Word2Vec corpus and using the associated vectors on the titles and claps for the Medium articles. I'll be taking a supervised learning approach, with the inputs being the titles (which will be translated to average vectors) and the outputs being claps. I used a random forest model."
   ]
  },
  {
   "cell_type": "code",
   "execution_count": 4,
   "id": "8317c532",
   "metadata": {},
   "outputs": [],
   "source": [
    "#getting model and training it on text8\n",
    "from gensim.models.word2vec import Word2Vec\n",
    "import gensim.downloader as api\n",
    "import nltk\n",
    "\n",
    "corpus = api.load('text8')  # download the corpus and return it opened as an iterable\n",
    "model = Word2Vec(corpus)  # train a model from the corpus"
   ]
  },
  {
   "cell_type": "code",
   "execution_count": 5,
   "id": "785b8243",
   "metadata": {},
   "outputs": [],
   "source": [
    "import pandas as pd\n",
    "import numpy as np\n",
    "df = pd.read_csv('medium_data.csv')"
   ]
  },
  {
   "cell_type": "markdown",
   "id": "9e0d4ea5",
   "metadata": {},
   "source": [
    "I used nltk stopwords and the vocablist of word2vec to remove any extraneous words not useful to the model."
   ]
  },
  {
   "cell_type": "code",
   "execution_count": 6,
   "id": "b5bed07b",
   "metadata": {},
   "outputs": [
    {
     "name": "stderr",
     "output_type": "stream",
     "text": [
      "[nltk_data] Downloading package stopwords to\n",
      "[nltk_data]     /Users/benjaminheim/nltk_data...\n",
      "[nltk_data]   Package stopwords is already up-to-date!\n"
     ]
    }
   ],
   "source": [
    "import nltk\n",
    "from nltk.corpus import stopwords\n",
    "nltk.download('stopwords')\n",
    "stop_words = set(stopwords.words('english'))"
   ]
  },
  {
   "cell_type": "markdown",
   "id": "1a9eb7d3",
   "metadata": {},
   "source": [
    "This function takes a title, finds the words useful to the model and then returns an average vector for the title. I then add this to the dataframe."
   ]
  },
  {
   "cell_type": "code",
   "execution_count": 7,
   "id": "96971f6f",
   "metadata": {
    "scrolled": false
   },
   "outputs": [
    {
     "name": "stdout",
     "output_type": "stream",
     "text": [
      "101\n"
     ]
    }
   ],
   "source": [
    "vocab = list(model.wv.index_to_key)\n",
    "def vectorize_title(title, model):\n",
    "    words = title.split()  # Split title into words\n",
    "    words = [word.lower() for word in words]\n",
    "    words = [word for word in words if word in vocab]\n",
    "    words = [word for word in words if word not in stop_words]\n",
    "    word_vectors = [model.wv[word] for word in words]\n",
    "    if len(word_vectors) == 0:\n",
    "        return np.zeros(model.vector_size)  # Return zero vector if no words are in the model\n",
    "    return np.mean(word_vectors, axis=0)\n",
    "\n",
    "title_vectors = []\n",
    "for title in df.title:\n",
    "    title_vectors.append(vectorize_title(title, model))\n",
    "frames = [df]\n",
    "    \n",
    "for r in range(100):\n",
    "    title_vectors_1dim = []\n",
    "    for title in title_vectors:\n",
    "        title_vectors_1dim.append(title[r])\n",
    "    frames.append(pd.Series(title_vectors_1dim))\n",
    "print(len(frames))\n",
    "df_vec = pd.concat(frames, axis=1)"
   ]
  },
  {
   "cell_type": "markdown",
   "id": "bde89fd0",
   "metadata": {},
   "source": [
    "These metrics aren't useful for the model, so I'm removing them."
   ]
  },
  {
   "cell_type": "code",
   "execution_count": 8,
   "id": "e3cf00bb",
   "metadata": {},
   "outputs": [],
   "source": [
    "df_vec = df_vec.drop(columns=['url', 'reading_time', 'subtitle', 'responses', 'publication', 'date'])"
   ]
  },
  {
   "cell_type": "code",
   "execution_count": 9,
   "id": "e087ba02",
   "metadata": {},
   "outputs": [],
   "source": [
    "title_length = [len(title.split()) for title in df.title]\n",
    "frames = [df_vec, pd.Series(title_length)]\n",
    "df_vec_len = pd.concat(frames, axis=1)\n",
    "df_vec_len.to_csv('titles_length_vector.csv')\n",
    "    "
   ]
  },
  {
   "cell_type": "markdown",
   "id": "d722487d",
   "metadata": {},
   "source": [
    "Used a random forest model to predict claps from the title."
   ]
  },
  {
   "cell_type": "code",
   "execution_count": 10,
   "id": "bd620228",
   "metadata": {},
   "outputs": [],
   "source": [
    "from sklearn.model_selection import train_test_split\n",
    "from sklearn.ensemble import RandomForestRegressor\n",
    "import numpy as np\n",
    "\n",
    "features = df_vec_len.drop(columns=['id', 'title', 'claps'])\n",
    "target = df_vec['claps']"
   ]
  },
  {
   "cell_type": "code",
   "execution_count": 11,
   "id": "0e662eca",
   "metadata": {},
   "outputs": [
    {
     "name": "stdout",
     "output_type": "stream",
     "text": [
      "            0         1         2         3         4         5         6   \\\n",
      "163  -0.369952 -1.182686  0.841922 -0.086033 -0.500341 -0.043329 -0.445611   \n",
      "203   0.079312 -1.627374 -0.220987 -0.463938 -0.169596  0.235753 -0.089013   \n",
      "841   0.306818 -1.050667 -0.237552  0.319493 -0.347548 -0.270182  0.576232   \n",
      "1630 -0.114850 -0.251863 -0.054964  0.011068  0.301893  0.339887 -0.206506   \n",
      "471   0.825590 -1.231775 -0.512317 -0.698986 -0.993363 -0.154073 -0.598387   \n",
      "...        ...       ...       ...       ...       ...       ...       ...   \n",
      "1638  0.246301 -0.777275 -0.386258 -0.030485  0.028884  0.391967 -0.257849   \n",
      "1095  1.319109 -1.911375 -0.496505 -0.525325 -1.119677  0.361343 -0.574371   \n",
      "1130 -0.040695  0.078110  0.238289  0.000524 -0.448405  0.158006  0.402500   \n",
      "1294  0.915747 -0.932416 -1.027201 -1.092982 -0.206993  0.303599 -0.171824   \n",
      "860   0.661275  0.150820 -0.728130 -0.337474 -0.563908 -0.710904  0.303773   \n",
      "\n",
      "            7         8         9   ...        91        92        93  \\\n",
      "163  -1.329347 -0.506289  1.561803  ... -0.568934  0.677654  1.762358   \n",
      "203  -1.310057  0.061022  1.833658  ...  0.231300 -1.324433  0.084886   \n",
      "841  -1.047965  0.748206  0.404240  ...  0.912602 -0.577037  0.173716   \n",
      "1630  0.169178  0.523958  1.186099  ... -0.635958 -0.280546  0.406432   \n",
      "471  -1.188008  0.767017 -0.389520  ...  0.422681 -0.200486  0.346154   \n",
      "...        ...       ...       ...  ...       ...       ...       ...   \n",
      "1638 -1.243978  0.340770  0.202494  ... -0.105009 -0.437543 -0.386846   \n",
      "1095 -1.239287 -0.350009  1.190310  ...  0.211209  0.163625 -0.018411   \n",
      "1130  0.226296 -0.097022  0.239769  ... -0.187263 -0.406002 -0.733900   \n",
      "1294 -0.121758  0.840444  1.122165  ... -0.379032 -0.498855  0.274613   \n",
      "860   0.880647 -0.674706 -0.999623  ...  1.054459 -0.886504 -0.232246   \n",
      "\n",
      "            94        95        96        97        98        99  0   \n",
      "163   0.429566  1.369000 -0.243191  1.022612  0.170189  0.709179  11  \n",
      "203   0.411825  1.555624 -1.313881 -1.157528 -0.584050  0.514622  13  \n",
      "841   1.023714  0.452953 -0.349257 -1.380545 -0.055654  1.088517   7  \n",
      "1630  0.301002  0.464524 -0.787327 -0.266557  0.144754  0.252889  16  \n",
      "471   1.166259 -0.106188 -0.498945 -1.932156  0.130486 -0.867764   8  \n",
      "...        ...       ...       ...       ...       ...       ...  ..  \n",
      "1638  0.636769  0.689142 -0.529705 -0.837830  0.204317  0.645629  17  \n",
      "1095  0.615206  1.446399 -0.007205 -1.075492 -0.448552  0.491179   8  \n",
      "1130  1.112490  0.247392 -0.145244 -0.132404 -0.375179  0.644295   6  \n",
      "1294  0.834011  0.031246 -1.254151 -1.670898  0.280254 -0.142641   4  \n",
      "860   0.500446  0.714875 -0.775815 -0.300954  0.261838  0.792014   9  \n",
      "\n",
      "[1716 rows x 101 columns]\n"
     ]
    },
    {
     "data": {
      "text/html": [
       "<style>#sk-container-id-1 {color: black;}#sk-container-id-1 pre{padding: 0;}#sk-container-id-1 div.sk-toggleable {background-color: white;}#sk-container-id-1 label.sk-toggleable__label {cursor: pointer;display: block;width: 100%;margin-bottom: 0;padding: 0.3em;box-sizing: border-box;text-align: center;}#sk-container-id-1 label.sk-toggleable__label-arrow:before {content: \"▸\";float: left;margin-right: 0.25em;color: #696969;}#sk-container-id-1 label.sk-toggleable__label-arrow:hover:before {color: black;}#sk-container-id-1 div.sk-estimator:hover label.sk-toggleable__label-arrow:before {color: black;}#sk-container-id-1 div.sk-toggleable__content {max-height: 0;max-width: 0;overflow: hidden;text-align: left;background-color: #f0f8ff;}#sk-container-id-1 div.sk-toggleable__content pre {margin: 0.2em;color: black;border-radius: 0.25em;background-color: #f0f8ff;}#sk-container-id-1 input.sk-toggleable__control:checked~div.sk-toggleable__content {max-height: 200px;max-width: 100%;overflow: auto;}#sk-container-id-1 input.sk-toggleable__control:checked~label.sk-toggleable__label-arrow:before {content: \"▾\";}#sk-container-id-1 div.sk-estimator input.sk-toggleable__control:checked~label.sk-toggleable__label {background-color: #d4ebff;}#sk-container-id-1 div.sk-label input.sk-toggleable__control:checked~label.sk-toggleable__label {background-color: #d4ebff;}#sk-container-id-1 input.sk-hidden--visually {border: 0;clip: rect(1px 1px 1px 1px);clip: rect(1px, 1px, 1px, 1px);height: 1px;margin: -1px;overflow: hidden;padding: 0;position: absolute;width: 1px;}#sk-container-id-1 div.sk-estimator {font-family: monospace;background-color: #f0f8ff;border: 1px dotted black;border-radius: 0.25em;box-sizing: border-box;margin-bottom: 0.5em;}#sk-container-id-1 div.sk-estimator:hover {background-color: #d4ebff;}#sk-container-id-1 div.sk-parallel-item::after {content: \"\";width: 100%;border-bottom: 1px solid gray;flex-grow: 1;}#sk-container-id-1 div.sk-label:hover label.sk-toggleable__label {background-color: #d4ebff;}#sk-container-id-1 div.sk-serial::before {content: \"\";position: absolute;border-left: 1px solid gray;box-sizing: border-box;top: 0;bottom: 0;left: 50%;z-index: 0;}#sk-container-id-1 div.sk-serial {display: flex;flex-direction: column;align-items: center;background-color: white;padding-right: 0.2em;padding-left: 0.2em;position: relative;}#sk-container-id-1 div.sk-item {position: relative;z-index: 1;}#sk-container-id-1 div.sk-parallel {display: flex;align-items: stretch;justify-content: center;background-color: white;position: relative;}#sk-container-id-1 div.sk-item::before, #sk-container-id-1 div.sk-parallel-item::before {content: \"\";position: absolute;border-left: 1px solid gray;box-sizing: border-box;top: 0;bottom: 0;left: 50%;z-index: -1;}#sk-container-id-1 div.sk-parallel-item {display: flex;flex-direction: column;z-index: 1;position: relative;background-color: white;}#sk-container-id-1 div.sk-parallel-item:first-child::after {align-self: flex-end;width: 50%;}#sk-container-id-1 div.sk-parallel-item:last-child::after {align-self: flex-start;width: 50%;}#sk-container-id-1 div.sk-parallel-item:only-child::after {width: 0;}#sk-container-id-1 div.sk-dashed-wrapped {border: 1px dashed gray;margin: 0 0.4em 0.5em 0.4em;box-sizing: border-box;padding-bottom: 0.4em;background-color: white;}#sk-container-id-1 div.sk-label label {font-family: monospace;font-weight: bold;display: inline-block;line-height: 1.2em;}#sk-container-id-1 div.sk-label-container {text-align: center;}#sk-container-id-1 div.sk-container {/* jupyter's `normalize.less` sets `[hidden] { display: none; }` but bootstrap.min.css set `[hidden] { display: none !important; }` so we also need the `!important` here to be able to override the default hidden behavior on the sphinx rendered scikit-learn.org. See: https://github.com/scikit-learn/scikit-learn/issues/21755 */display: inline-block !important;position: relative;}#sk-container-id-1 div.sk-text-repr-fallback {display: none;}</style><div id=\"sk-container-id-1\" class=\"sk-top-container\"><div class=\"sk-text-repr-fallback\"><pre>RandomForestRegressor(random_state=42)</pre><b>In a Jupyter environment, please rerun this cell to show the HTML representation or trust the notebook. <br />On GitHub, the HTML representation is unable to render, please try loading this page with nbviewer.org.</b></div><div class=\"sk-container\" hidden><div class=\"sk-item\"><div class=\"sk-estimator sk-toggleable\"><input class=\"sk-toggleable__control sk-hidden--visually\" id=\"sk-estimator-id-1\" type=\"checkbox\" checked><label for=\"sk-estimator-id-1\" class=\"sk-toggleable__label sk-toggleable__label-arrow\">RandomForestRegressor</label><div class=\"sk-toggleable__content\"><pre>RandomForestRegressor(random_state=42)</pre></div></div></div></div></div>"
      ],
      "text/plain": [
       "RandomForestRegressor(random_state=42)"
      ]
     },
     "execution_count": 11,
     "metadata": {},
     "output_type": "execute_result"
    }
   ],
   "source": [
    "X_train, X_test, y_train, y_test = train_test_split(features, target, test_size=.2, random_state=42)\n",
    "print(X_train)\n",
    "X_train = np.asarray(X_train)\n",
    "X_train.reshape(1, -1)\n",
    "y_train = np.asarray(y_train)\n",
    "y_train.reshape(1, -1)\n",
    "rf = RandomForestRegressor(n_estimators=100, random_state=42)\n",
    "rf.fit(list(X_train), list(y_train))"
   ]
  },
  {
   "cell_type": "markdown",
   "id": "79fde0b1",
   "metadata": {},
   "source": [
    "Below is the function to input a title and get the number of predicted claps."
   ]
  },
  {
   "cell_type": "code",
   "execution_count": 12,
   "id": "6d775dda",
   "metadata": {},
   "outputs": [],
   "source": [
    "def test_title(title):\n",
    "    title_len = len(title.split())\n",
    "    vectors = vectorize_title(title, model)\n",
    "    frames = []\n",
    "    for val in vectors:\n",
    "        frames.append(pd.Series(val))\n",
    "    frames.append(pd.Series(title_len))\n",
    "    new_features = pd.concat(frames, axis=1)\n",
    "    new_features = np.asarray(new_features)\n",
    "    predicted_claps = rf.predict(new_features)\n",
    "    return predicted_claps"
   ]
  },
  {
   "cell_type": "code",
   "execution_count": 13,
   "id": "917af244",
   "metadata": {},
   "outputs": [
    {
     "name": "stdout",
     "output_type": "stream",
     "text": [
      "[510.83]\n",
      "[333.85]\n"
     ]
    }
   ],
   "source": [
    "print(test_title(\"How to Succeed in Business\"))\n",
    "print(test_title(\"How to Succeed in Business Without Really Trying\"))"
   ]
  }
 ],
 "metadata": {
  "kernelspec": {
   "display_name": "Python 3 (ipykernel)",
   "language": "python",
   "name": "python3"
  },
  "language_info": {
   "codemirror_mode": {
    "name": "ipython",
    "version": 3
   },
   "file_extension": ".py",
   "mimetype": "text/x-python",
   "name": "python",
   "nbconvert_exporter": "python",
   "pygments_lexer": "ipython3",
   "version": "3.11.5"
  }
 },
 "nbformat": 4,
 "nbformat_minor": 5
}
